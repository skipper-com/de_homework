{
 "cells": [
  {
   "cell_type": "code",
   "execution_count": 54,
   "id": "a2050894",
   "metadata": {},
   "outputs": [
    {
     "ename": "ImportError",
     "evalue": "cannot import name 'col' from 'pyspark.sql' (/home/skipper/spark-3.3.2-bin-hadoop3/python/lib/pyspark.zip/pyspark/sql/__init__.py)",
     "output_type": "error",
     "traceback": [
      "\u001b[0;31m---------------------------------------------------------------------------\u001b[0m",
      "\u001b[0;31mImportError\u001b[0m                               Traceback (most recent call last)",
      "\u001b[0;32m/tmp/ipykernel_47065/4077108569.py\u001b[0m in \u001b[0;36m<module>\u001b[0;34m\u001b[0m\n\u001b[1;32m      3\u001b[0m \u001b[0;32mimport\u001b[0m \u001b[0mpandas\u001b[0m \u001b[0;32mas\u001b[0m \u001b[0mpd\u001b[0m\u001b[0;34m\u001b[0m\u001b[0;34m\u001b[0m\u001b[0m\n\u001b[1;32m      4\u001b[0m \u001b[0;32mfrom\u001b[0m \u001b[0mpyspark\u001b[0m\u001b[0;34m.\u001b[0m\u001b[0msql\u001b[0m \u001b[0;32mimport\u001b[0m \u001b[0mtypes\u001b[0m\u001b[0;34m\u001b[0m\u001b[0;34m\u001b[0m\u001b[0m\n\u001b[0;32m----> 5\u001b[0;31m \u001b[0;32mfrom\u001b[0m \u001b[0mpyspark\u001b[0m\u001b[0;34m.\u001b[0m\u001b[0msql\u001b[0m \u001b[0;32mimport\u001b[0m \u001b[0mfunctions\u001b[0m \u001b[0;32mas\u001b[0m \u001b[0mF\u001b[0m\u001b[0;34m,\u001b[0m \u001b[0mcol\u001b[0m\u001b[0;34m\u001b[0m\u001b[0;34m\u001b[0m\u001b[0m\n\u001b[0m\u001b[1;32m      6\u001b[0m \u001b[0;32mfrom\u001b[0m \u001b[0mdatetime\u001b[0m \u001b[0;32mimport\u001b[0m \u001b[0mdatetime\u001b[0m\u001b[0;34m,\u001b[0m \u001b[0mtimedelta\u001b[0m\u001b[0;34m\u001b[0m\u001b[0;34m\u001b[0m\u001b[0m\n",
      "\u001b[0;31mImportError\u001b[0m: cannot import name 'col' from 'pyspark.sql' (/home/skipper/spark-3.3.2-bin-hadoop3/python/lib/pyspark.zip/pyspark/sql/__init__.py)"
     ]
    }
   ],
   "source": [
    "import pyspark\n",
    "from pyspark.sql import SparkSession\n",
    "import pandas as pd\n",
    "from pyspark.sql import types\n",
    "from pyspark.sql import functions as F\n",
    "from datetime import datetime, timedelta"
   ]
  },
  {
   "cell_type": "code",
   "execution_count": 4,
   "id": "0c6651bb",
   "metadata": {},
   "outputs": [],
   "source": [
    "spark = SparkSession.builder \\\n",
    "    .master(\"local[*]\") \\\n",
    "    .appName('test') \\\n",
    "    .getOrCreate()"
   ]
  },
  {
   "cell_type": "code",
   "execution_count": 9,
   "id": "067925ee",
   "metadata": {},
   "outputs": [
    {
     "name": "stdout",
     "output_type": "stream",
     "text": [
      "14961893 data/fhv/csv/fhvhv_tripdata_2021-06.csv\r\n"
     ]
    }
   ],
   "source": [
    "!wc -l data/fhv/csv/fhvhv_tripdata_2021-06.csv"
   ]
  },
  {
   "cell_type": "code",
   "execution_count": 10,
   "id": "f3dda56d",
   "metadata": {},
   "outputs": [],
   "source": [
    "df = spark.read \\\n",
    "    .option(\"header\", \"true\") \\\n",
    "    .csv('data/fhv/csv/fhvhv_tripdata_2021-06.csv')"
   ]
  },
  {
   "cell_type": "code",
   "execution_count": 11,
   "id": "8130948b",
   "metadata": {},
   "outputs": [
    {
     "data": {
      "text/plain": [
       "StructType([StructField('dispatching_base_num', StringType(), True), StructField('pickup_datetime', StringType(), True), StructField('dropoff_datetime', StringType(), True), StructField('PULocationID', StringType(), True), StructField('DOLocationID', StringType(), True), StructField('SR_Flag', StringType(), True), StructField('Affiliated_base_number', StringType(), True)])"
      ]
     },
     "execution_count": 11,
     "metadata": {},
     "output_type": "execute_result"
    }
   ],
   "source": [
    "df.schema"
   ]
  },
  {
   "cell_type": "code",
   "execution_count": 10,
   "id": "f2bedbf4",
   "metadata": {},
   "outputs": [],
   "source": [
    "!head -n 1001 fhvhv_tripdata_2021-06.csv > head.csv"
   ]
  },
  {
   "cell_type": "code",
   "execution_count": 12,
   "id": "1d328339",
   "metadata": {},
   "outputs": [
    {
     "data": {
      "text/plain": [
       "dispatching_base_num      object\n",
       "pickup_datetime           object\n",
       "dropoff_datetime          object\n",
       "PULocationID               int64\n",
       "DOLocationID               int64\n",
       "SR_Flag                   object\n",
       "Affiliated_base_number    object\n",
       "dtype: object"
      ]
     },
     "execution_count": 12,
     "metadata": {},
     "output_type": "execute_result"
    }
   ],
   "source": [
    "df_pandas = pd.read_csv('head.csv')\n",
    "df_pandas.dtypes"
   ]
  },
  {
   "cell_type": "code",
   "execution_count": 12,
   "id": "190cb8b6",
   "metadata": {},
   "outputs": [],
   "source": [
    "schema = types.StructType([\n",
    "    types.StructField('dispatching_base_num', types.StringType(), True),\n",
    "    types.StructField('pickup_datetime', types.TimestampType(), True),\n",
    "    types.StructField('dropoff_datetime', types.TimestampType(), True),\n",
    "    types.StructField('PULocationID', types.IntegerType(), True),\n",
    "    types.StructField('DOLocationID', types.IntegerType(), True),\n",
    "    types.StructField('SR_Flag', types.StringType(), True),\n",
    "    types.StructField('Affiliated_base_number', types.StringType(), True),\n",
    "])"
   ]
  },
  {
   "cell_type": "code",
   "execution_count": 13,
   "id": "c1c49a47",
   "metadata": {},
   "outputs": [],
   "source": [
    "df = spark.read \\\n",
    "    .option(\"header\", \"true\") \\\n",
    "    .schema(schema) \\\n",
    "    .csv('data/fhv/csv/fhvhv_tripdata_2021-06.csv')"
   ]
  },
  {
   "cell_type": "code",
   "execution_count": 14,
   "id": "beffaa69",
   "metadata": {},
   "outputs": [],
   "source": [
    "df = df.repartition(12)"
   ]
  },
  {
   "cell_type": "code",
   "execution_count": 17,
   "id": "27b7f9ab",
   "metadata": {},
   "outputs": [
    {
     "name": "stderr",
     "output_type": "stream",
     "text": [
      "                                                                                \r"
     ]
    }
   ],
   "source": [
    "df.write.parquet('data/fhv/pq/', mode='overwrite')"
   ]
  },
  {
   "cell_type": "code",
   "execution_count": 18,
   "id": "d85ff847",
   "metadata": {},
   "outputs": [],
   "source": [
    "df = spark.read.parquet('data/fhv/pq/')"
   ]
  },
  {
   "cell_type": "code",
   "execution_count": 19,
   "id": "305c511b",
   "metadata": {},
   "outputs": [
    {
     "name": "stdout",
     "output_type": "stream",
     "text": [
      "root\n",
      " |-- dispatching_base_num: string (nullable = true)\n",
      " |-- pickup_datetime: timestamp (nullable = true)\n",
      " |-- dropoff_datetime: timestamp (nullable = true)\n",
      " |-- PULocationID: integer (nullable = true)\n",
      " |-- DOLocationID: integer (nullable = true)\n",
      " |-- SR_Flag: string (nullable = true)\n",
      " |-- Affiliated_base_number: string (nullable = true)\n",
      "\n"
     ]
    }
   ],
   "source": [
    "df.printSchema()"
   ]
  },
  {
   "cell_type": "code",
   "execution_count": 20,
   "id": "f156999b",
   "metadata": {},
   "outputs": [
    {
     "name": "stdout",
     "output_type": "stream",
     "text": [
      "+--------------------+-------------------+-------------------+------------+------------+-------+----------------------+\n",
      "|dispatching_base_num|    pickup_datetime|   dropoff_datetime|PULocationID|DOLocationID|SR_Flag|Affiliated_base_number|\n",
      "+--------------------+-------------------+-------------------+------------+------------+-------+----------------------+\n",
      "|              B02617|2021-06-04 16:50:34|2021-06-04 17:01:18|         118|         109|      N|                B02617|\n",
      "|              B02875|2021-06-02 22:28:45|2021-06-02 22:37:28|         163|          79|      N|                B02875|\n",
      "|              B02871|2021-06-03 11:47:48|2021-06-03 11:52:23|         231|          13|      N|                B02871|\n",
      "|              B02888|2021-06-03 08:45:25|2021-06-03 09:00:12|           9|          92|      N|                B02888|\n",
      "|              B02510|2021-06-05 09:50:43|2021-06-05 10:06:53|          14|         133|      N|                  null|\n",
      "|              B02764|2021-06-03 22:55:50|2021-06-03 23:21:24|         152|          74|      N|                B02764|\n",
      "|              B02889|2021-06-02 03:15:48|2021-06-02 03:26:20|         220|         235|      N|                B02889|\n",
      "|              B02872|2021-06-01 11:50:42|2021-06-01 12:00:36|         162|         161|      N|                B02872|\n",
      "|              B02510|2021-06-04 06:51:45|2021-06-04 06:56:26|         206|         206|      N|                  null|\n",
      "|              B02835|2021-06-02 01:21:31|2021-06-02 01:50:23|          49|         182|      N|                B02835|\n",
      "|              B02510|2021-06-02 17:11:31|2021-06-02 18:18:32|         236|          89|      N|                  null|\n",
      "|              B02869|2021-06-01 18:48:20|2021-06-01 18:54:59|         151|          43|      N|                B02869|\n",
      "|              B02510|2021-06-02 16:16:53|2021-06-02 16:39:03|         181|         189|      N|                  null|\n",
      "|              B02510|2021-06-03 21:23:35|2021-06-03 21:33:33|         181|          89|      N|                  null|\n",
      "|              B02764|2021-06-01 06:51:24|2021-06-01 06:58:09|          86|          86|      N|                B02764|\n",
      "|              B02867|2021-06-04 18:26:09|2021-06-04 18:41:43|         162|         263|      N|                B02867|\n",
      "|              B02510|2021-06-01 10:21:49|2021-06-01 11:08:24|         151|          17|      N|                  null|\n",
      "|              B02682|2021-06-04 01:45:17|2021-06-04 01:53:16|         125|         164|      N|                B02682|\n",
      "|              B02875|2021-06-01 14:06:42|2021-06-01 14:33:53|         192|           7|      N|                B02875|\n",
      "|              B02510|2021-06-03 21:15:15|2021-06-03 21:21:24|         171|          16|      N|                  null|\n",
      "+--------------------+-------------------+-------------------+------------+------------+-------+----------------------+\n",
      "only showing top 20 rows\n",
      "\n"
     ]
    }
   ],
   "source": [
    "df.show()"
   ]
  },
  {
   "cell_type": "code",
   "execution_count": 22,
   "id": "9ac4c9eb",
   "metadata": {},
   "outputs": [],
   "source": [
    "def crazy_stuff(base_num):\n",
    "    num = int(base_num[1:])\n",
    "    if num % 7 == 0:\n",
    "        return f's/{num:03x}'\n",
    "    elif num % 3 == 0:\n",
    "        return f'a/{num:03x}'\n",
    "    else:\n",
    "        return f'e/{num:03x}'"
   ]
  },
  {
   "cell_type": "code",
   "execution_count": 24,
   "id": "95a369e0",
   "metadata": {},
   "outputs": [],
   "source": [
    "crazy_stuff_udf = F.udf(crazy_stuff, returnType=types.StringType())"
   ]
  },
  {
   "cell_type": "code",
   "execution_count": 28,
   "id": "93565fc9",
   "metadata": {
    "scrolled": true
   },
   "outputs": [
    {
     "name": "stdout",
     "output_type": "stream",
     "text": [
      "+-------+-----------+------------+------------+------------+\n",
      "|base_id|pickup_date|dropoff_date|PULocationID|DOLocationID|\n",
      "+-------+-----------+------------+------------+------------+\n",
      "|  e/b3b| 2021-06-02|  2021-06-02|         163|          79|\n",
      "|  e/b48| 2021-06-03|  2021-06-03|           9|          92|\n",
      "|  e/acc| 2021-06-03|  2021-06-03|         152|          74|\n",
      "|  e/b38| 2021-06-01|  2021-06-01|         162|         161|\n",
      "|  s/b13| 2021-06-02|  2021-06-02|          49|         182|\n",
      "|  e/b35| 2021-06-01|  2021-06-01|         151|          43|\n",
      "|  e/9ce| 2021-06-03|  2021-06-03|         181|          89|\n",
      "|  e/b33| 2021-06-04|  2021-06-04|         162|         263|\n",
      "|  a/a7a| 2021-06-04|  2021-06-04|         125|         164|\n",
      "|  e/9ce| 2021-06-03|  2021-06-03|         171|          16|\n",
      "|  e/a39| 2021-06-04|  2021-06-04|         107|         170|\n",
      "|  a/a7a| 2021-06-01|  2021-06-01|         238|         113|\n",
      "|  e/b38| 2021-06-03|  2021-06-03|         218|         122|\n",
      "|  e/9ce| 2021-06-01|  2021-06-01|           9|         171|\n",
      "|  e/acc| 2021-06-04|  2021-06-04|          82|         129|\n",
      "|  e/b38| 2021-06-02|  2021-06-02|         168|         259|\n",
      "|  a/a7a| 2021-06-03|  2021-06-03|         100|         222|\n",
      "|  e/b42| 2021-06-05|  2021-06-05|         261|         237|\n",
      "|  e/b3b| 2021-06-05|  2021-06-05|          37|          61|\n",
      "|  s/b13| 2021-06-03|  2021-06-03|         100|         186|\n",
      "+-------+-----------+------------+------------+------------+\n",
      "only showing top 20 rows\n",
      "\n"
     ]
    }
   ],
   "source": [
    "df \\\n",
    "    .withColumn('pickup_date', F.to_date(df.pickup_datetime)) \\\n",
    "    .withColumn('dropoff_date', F.to_date(df.dropoff_datetime)) \\\n",
    "    .withColumn('base_id', crazy_stuff_udf(df.dispatching_base_num)) \\\n",
    "    .select('base_id', 'pickup_date', 'dropoff_date', 'PULocationID', 'DOLocationID') \\\n",
    "    .show()"
   ]
  },
  {
   "cell_type": "code",
   "execution_count": 21,
   "id": "0fcc2c12",
   "metadata": {},
   "outputs": [
    {
     "name": "stdout",
     "output_type": "stream",
     "text": [
      "+-------------------+-------------------+------------+------------+\n",
      "|    pickup_datetime|   dropoff_datetime|PULocationID|DOLocationID|\n",
      "+-------------------+-------------------+------------+------------+\n",
      "|2021-06-02 01:21:31|2021-06-02 01:50:23|          49|         182|\n",
      "|2021-06-03 09:39:41|2021-06-03 09:51:25|         100|         186|\n",
      "|2021-06-01 21:32:54|2021-06-01 21:42:39|         236|          41|\n",
      "|2021-06-02 09:01:22|2021-06-02 09:09:12|          48|          90|\n",
      "|2021-06-03 22:51:28|2021-06-03 23:08:37|         158|         230|\n",
      "|2021-06-02 15:41:38|2021-06-02 16:28:54|         107|          75|\n",
      "|2021-06-03 14:37:24|2021-06-03 14:45:20|         260|          82|\n",
      "|2021-06-02 16:03:52|2021-06-02 17:11:54|         161|         123|\n",
      "|2021-06-04 09:01:49|2021-06-04 09:15:23|          91|          85|\n",
      "|2021-06-01 08:14:20|2021-06-01 09:04:23|          67|         261|\n",
      "|2021-06-02 00:02:28|2021-06-02 00:16:45|         161|           7|\n",
      "|2021-06-04 17:24:08|2021-06-04 18:01:17|         233|         246|\n",
      "|2021-06-03 04:22:03|2021-06-03 04:34:15|          26|         228|\n",
      "|2021-06-01 23:36:27|2021-06-01 23:48:27|         249|         265|\n",
      "|2021-06-03 20:36:38|2021-06-03 20:57:54|         144|         161|\n",
      "|2021-06-04 10:54:15|2021-06-04 11:04:17|         236|          75|\n",
      "|2021-06-03 20:13:13|2021-06-03 20:18:21|           4|         232|\n",
      "|2021-06-04 10:21:59|2021-06-04 10:43:28|         202|         141|\n",
      "|2021-06-02 22:21:49|2021-06-02 22:45:27|         113|          97|\n",
      "|2021-06-04 17:23:00|2021-06-04 18:04:15|         228|          65|\n",
      "+-------------------+-------------------+------------+------------+\n",
      "only showing top 20 rows\n",
      "\n"
     ]
    }
   ],
   "source": [
    "df.select('pickup_datetime', 'dropoff_datetime', 'PULocationID', 'DOLocationID') \\\n",
    "    .filter(df.Affiliated_base_number == 'B02835') \\\n",
    "    .show()"
   ]
  },
  {
   "cell_type": "code",
   "execution_count": 22,
   "id": "c01c50ba",
   "metadata": {},
   "outputs": [
    {
     "name": "stderr",
     "output_type": "stream",
     "text": [
      "                                                                                \r"
     ]
    },
    {
     "data": {
      "text/plain": [
       "452470"
      ]
     },
     "execution_count": 22,
     "metadata": {},
     "output_type": "execute_result"
    }
   ],
   "source": [
    "df.filter(F.to_date(df.pickup_datetime) == '2021-06-15') \\\n",
    "    .count()"
   ]
  },
  {
   "cell_type": "code",
   "execution_count": null,
   "id": "4e4a27c7",
   "metadata": {},
   "outputs": [],
   "source": [
    "def time_difference(start, finish):\n",
    "    t1, t2 = datetime.strptime(start, '%Y-%m-%d %H:%M:%S'), datetime.strptime(finish, '%Y-%m-%d %H:%M:%S')\n",
    "    return (t2 - t1) / 60"
   ]
  },
  {
   "cell_type": "code",
   "execution_count": 38,
   "id": "4aa2f8d7",
   "metadata": {
    "scrolled": true
   },
   "outputs": [
    {
     "name": "stderr",
     "output_type": "stream",
     "text": [
      "[Stage 14:==============>                                           (1 + 3) / 4]\r"
     ]
    },
    {
     "name": "stdout",
     "output_type": "stream",
     "text": [
      "+--------------------+-------------------+-------------------+------------+------------+-------+----------------------+------------------+\n",
      "|dispatching_base_num|pickup_datetime    |dropoff_datetime   |PULocationID|DOLocationID|SR_Flag|Affiliated_base_number|date_diff_max     |\n",
      "+--------------------+-------------------+-------------------+------------+------------+-------+----------------------+------------------+\n",
      "|B02872              |2021-06-25 13:55:41|2021-06-28 08:48:25|98          |265         |N      |B02872                |66.8788888888889  |\n",
      "|B02765              |2021-06-22 12:09:45|2021-06-23 13:42:44|188         |198         |N      |B02765                |25.549722222222222|\n",
      "|B02879              |2021-06-27 10:32:29|2021-06-28 06:31:20|78          |169         |N      |B02879                |19.980833333333333|\n",
      "|B02800              |2021-06-26 22:37:11|2021-06-27 16:49:01|263         |36          |N      |null                  |18.197222222222223|\n",
      "|B02682              |2021-06-23 20:40:43|2021-06-24 13:08:44|3           |247         |N      |B02682                |16.466944444444444|\n",
      "|B02869              |2021-06-23 22:03:31|2021-06-24 12:19:39|186         |216         |N      |B02869                |14.268888888888888|\n",
      "|B02877              |2021-06-24 23:11:00|2021-06-25 13:05:35|181         |61          |N      |B02877                |13.909722222222221|\n",
      "|B02765              |2021-06-04 20:56:02|2021-06-05 08:36:14|53          |252         |N      |B02765                |11.67             |\n",
      "|B02617              |2021-06-27 07:45:19|2021-06-27 19:07:16|187         |245         |N      |B02617                |11.365833333333333|\n",
      "|B02880              |2021-06-20 17:05:12|2021-06-21 04:04:16|144         |231         |N      |B02880                |10.984444444444444|\n",
      "|B02866              |2021-06-01 12:25:29|2021-06-01 22:41:32|87          |265         |N      |B02866                |10.2675           |\n",
      "|B02882              |2021-06-28 13:13:59|2021-06-28 23:11:58|39          |131         |N      |B02882                |9.966388888888888 |\n",
      "|B02510              |2021-06-01 12:01:46|2021-06-01 21:59:45|17          |37          |N      |null                  |9.966388888888888 |\n",
      "|B02510              |2021-06-27 03:52:14|2021-06-27 13:30:30|42          |242         |N      |null                  |9.637777777777778 |\n",
      "|B02510              |2021-06-18 08:50:29|2021-06-18 18:27:57|39          |216         |N      |null                  |9.624444444444444 |\n",
      "|B02510              |2021-06-08 16:38:14|2021-06-09 02:07:03|106         |102         |N      |null                  |9.480277777777777 |\n",
      "|B02800              |2021-06-11 23:26:20|2021-06-12 08:54:38|132         |140         |N      |null                  |9.471666666666666 |\n",
      "|B02510              |2021-06-15 06:47:22|2021-06-15 16:11:30|141         |232         |N      |null                  |9.402222222222223 |\n",
      "|B02510              |2021-06-25 02:32:24|2021-06-25 11:56:01|87          |145         |N      |null                  |9.393611111111111 |\n",
      "|B02764              |2021-06-04 17:41:23|2021-06-05 03:04:00|26          |238         |N      |B02764                |9.376944444444444 |\n",
      "+--------------------+-------------------+-------------------+------------+------------+-------+----------------------+------------------+\n",
      "only showing top 20 rows\n",
      "\n"
     ]
    },
    {
     "name": "stderr",
     "output_type": "stream",
     "text": [
      "\r",
      "[Stage 14:==========================================================(4 + 0) / 4]\r",
      "\r",
      "                                                                                \r"
     ]
    }
   ],
   "source": [
    "df1 = df.withColumn(\"date_diff_max\", (F.col(\"dropoff_datetime\").cast(\"long\") - F.col(\"pickup_datetime\").cast(\"long\"))/3600)\n",
    "df1.sort(df1.date_diff_max.desc()).show(truncate=False)"
   ]
  },
  {
   "cell_type": "code",
   "execution_count": 39,
   "id": "9b1b5fd4",
   "metadata": {},
   "outputs": [],
   "source": [
    "df_zones = spark.read \\\n",
    "    .option(\"header\", \"true\") \\\n",
    "    .csv('taxi+_zone_lookup.csv')"
   ]
  },
  {
   "cell_type": "code",
   "execution_count": 40,
   "id": "63f20c28",
   "metadata": {},
   "outputs": [
    {
     "name": "stdout",
     "output_type": "stream",
     "text": [
      "+----------+-------------+--------------------+------------+\n",
      "|LocationID|      Borough|                Zone|service_zone|\n",
      "+----------+-------------+--------------------+------------+\n",
      "|         1|          EWR|      Newark Airport|         EWR|\n",
      "|         2|       Queens|         Jamaica Bay|   Boro Zone|\n",
      "|         3|        Bronx|Allerton/Pelham G...|   Boro Zone|\n",
      "|         4|    Manhattan|       Alphabet City| Yellow Zone|\n",
      "|         5|Staten Island|       Arden Heights|   Boro Zone|\n",
      "|         6|Staten Island|Arrochar/Fort Wad...|   Boro Zone|\n",
      "|         7|       Queens|             Astoria|   Boro Zone|\n",
      "|         8|       Queens|        Astoria Park|   Boro Zone|\n",
      "|         9|       Queens|          Auburndale|   Boro Zone|\n",
      "|        10|       Queens|        Baisley Park|   Boro Zone|\n",
      "|        11|     Brooklyn|          Bath Beach|   Boro Zone|\n",
      "|        12|    Manhattan|        Battery Park| Yellow Zone|\n",
      "|        13|    Manhattan|   Battery Park City| Yellow Zone|\n",
      "|        14|     Brooklyn|           Bay Ridge|   Boro Zone|\n",
      "|        15|       Queens|Bay Terrace/Fort ...|   Boro Zone|\n",
      "|        16|       Queens|             Bayside|   Boro Zone|\n",
      "|        17|     Brooklyn|             Bedford|   Boro Zone|\n",
      "|        18|        Bronx|        Bedford Park|   Boro Zone|\n",
      "|        19|       Queens|           Bellerose|   Boro Zone|\n",
      "|        20|        Bronx|             Belmont|   Boro Zone|\n",
      "+----------+-------------+--------------------+------------+\n",
      "only showing top 20 rows\n",
      "\n"
     ]
    }
   ],
   "source": [
    "df_zones.show()"
   ]
  },
  {
   "cell_type": "code",
   "execution_count": 43,
   "id": "297b0c11",
   "metadata": {},
   "outputs": [],
   "source": [
    "df2 = df.join(df_zones,df.PULocationID ==  df_zones.LocationID, \"inner\")"
   ]
  },
  {
   "cell_type": "code",
   "execution_count": 55,
   "id": "e568a79b",
   "metadata": {},
   "outputs": [
    {
     "name": "stderr",
     "output_type": "stream",
     "text": [
      "\r",
      "[Stage 30:>                                                         (0 + 4) / 4]\r"
     ]
    },
    {
     "name": "stdout",
     "output_type": "stream",
     "text": [
      "+--------------------+------+\n",
      "|                Zone| count|\n",
      "+--------------------+------+\n",
      "| Crown Heights North|231279|\n",
      "|        East Village|221244|\n",
      "|         JFK Airport|188867|\n",
      "|      Bushwick South|187929|\n",
      "|       East New York|186780|\n",
      "|TriBeCa/Civic Center|164344|\n",
      "|   LaGuardia Airport|161596|\n",
      "|            Union Sq|158937|\n",
      "|        West Village|154698|\n",
      "|             Astoria|152493|\n",
      "|     Lower East Side|151020|\n",
      "|        East Chelsea|147673|\n",
      "|Central Harlem North|146402|\n",
      "|Williamsburg (Nor...|143683|\n",
      "|          Park Slope|143594|\n",
      "|  Stuyvesant Heights|141427|\n",
      "|        Clinton East|139611|\n",
      "|West Chelsea/Huds...|139431|\n",
      "|             Bedford|138428|\n",
      "|         Murray Hill|137879|\n",
      "+--------------------+------+\n",
      "only showing top 20 rows\n",
      "\n"
     ]
    },
    {
     "name": "stderr",
     "output_type": "stream",
     "text": [
      "\r",
      "                                                                                \r"
     ]
    }
   ],
   "source": [
    "df2.groupBy(\"Zone\") \\\n",
    "  .count() \\\n",
    "  .sort(F.col('count').desc()) \\\n",
    "  .show()"
   ]
  },
  {
   "cell_type": "code",
   "execution_count": null,
   "id": "7786abeb",
   "metadata": {},
   "outputs": [],
   "source": []
  }
 ],
 "metadata": {
  "kernelspec": {
   "display_name": "Python 3 (ipykernel)",
   "language": "python",
   "name": "python3"
  },
  "language_info": {
   "codemirror_mode": {
    "name": "ipython",
    "version": 3
   },
   "file_extension": ".py",
   "mimetype": "text/x-python",
   "name": "python",
   "nbconvert_exporter": "python",
   "pygments_lexer": "ipython3",
   "version": "3.9.13"
  }
 },
 "nbformat": 4,
 "nbformat_minor": 5
}
